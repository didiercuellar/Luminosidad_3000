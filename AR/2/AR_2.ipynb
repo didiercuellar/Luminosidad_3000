{
 "cells": [
  {
   "cell_type": "code",
   "execution_count": 1,
   "metadata": {},
   "outputs": [],
   "source": [
    "import pandas as pd \n",
    "import numpy as np \n",
    "import scipy.stats as st \n",
    "from scipy.interpolate import interp1d\n",
    "from matplotlib import pyplot as plt \n",
    "import math\n",
    "import statistics as stats\n",
    "from sklearn.linear_model import LinearRegression\n",
    "from sklearn.metrics import mean_squared_error, r2_score\n",
    "import statsmodels.api as sm\n",
    "from sklearn.preprocessing import StandardScaler\n",
    "from sklearn.linear_model import LogisticRegression\n",
    "from sklearn.preprocessing import PolynomialFeatures "
   ]
  },
  {
   "cell_type": "code",
   "execution_count": 2,
   "metadata": {},
   "outputs": [
    {
     "name": "stdout",
     "output_type": "stream",
     "text": [
      "0.38483074260230693\n",
      "0.7893834462125735\n",
      "           A         B        C\n",
      "0   0.240217  45.48131  0.00300\n",
      "1   2.175642  44.56355  0.01184\n",
      "2   0.055222  44.48522  0.01201\n",
      "3   0.060443  44.94271  0.00330\n",
      "4   0.070739  44.85158  0.01119\n",
      "..       ...       ...      ...\n",
      "66  0.259238  44.73836  0.01216\n",
      "67  0.380197  44.70017  0.01567\n",
      "68  0.393662  44.99169  0.00923\n",
      "69  0.683897  45.37277  0.00411\n",
      "70  0.346123  44.99354  0.00965\n",
      "\n",
      "[70 rows x 3 columns]\n"
     ]
    }
   ],
   "source": [
    "data=pd.read_csv('AR_2_U.csv',header=0,)\n",
    "data = data.dropna(how='any')#quita los valores nan del documento\n",
    "y=data.iloc[:,0]\n",
    "\n",
    "x=data.iloc[:,1]\n",
    "z=data.iloc[:,2]\n",
    "\n",
    "print(stats.stdev(x))\n",
    "print(stats.stdev(y))\n",
    "print(data)"
   ]
  },
  {
   "cell_type": "code",
   "execution_count": 14,
   "metadata": {},
   "outputs": [
    {
     "name": "stdout",
     "output_type": "stream",
     "text": [
      "pendiente b1  -0.5842270307813179\n",
      "intercepción b0 is 27.26135133669582\n"
     ]
    },
    {
     "data": {
      "image/png": "[encoded data removed]",
      "text/plain": [
       "<Figure size 432x288 with 1 Axes>"
      ]
     },
     "metadata": {
      "needs_background": "light"
     },
     "output_type": "display_data"
    }
   ],
   "source": [
    "n = np.size(x)\n",
    "x_mean = np.mean(x)\n",
    "y_mean = np.mean(y)\n",
    "x_mean,y_mean\n",
    "  \n",
    "Sxy = np.sum(x*y)- n*x_mean*y_mean\n",
    "Sxx = np.sum(x*x)-n*x_mean*x_mean\n",
    "  \n",
    "b1 = Sxy/Sxx\n",
    "b0 = y_mean-b1*x_mean\n",
    "print('pendiente b1 ', b1)\n",
    "print('intercepción b0 is', b0)\n",
    "  \n",
    "plt.scatter(x,y)\n",
    "xerror = z\n",
    "plt.errorbar(x,y,xerr=xerror, fmt = ' ' , ecolor='blue')\n",
    "plt.title(\"Luminosidad_3000\")\n",
    "\n",
    "y_pred = b1 * x + b0\n",
    "  \n",
    "plt.scatter(x, y, color = 'red')\n",
    "plt.plot(x, y_pred, color = 'green')\n",
    "plt.xlabel('erg/seg')\n",
    "plt.ylabel('AR_U_2')\n",
    "plt.savefig(\"Luminosidad_3000_AR_U_2.pdf\")"
   ]
  },
  {
   "cell_type": "code",
   "execution_count": 15,
   "metadata": {},
   "outputs": [
    {
     "name": "stdout",
     "output_type": "stream",
     "text": [
      "Pendiente : [[-0.58422703]\n",
      " [ 1.        ]]\n",
      "Intercepción: [ 2.72613513e+01 -7.10542736e-15]\n",
      "Errorcuadratico medio : 0.5809140808792537\n",
      "Raiz del error cuadratico medio:  0.7621771978216442\n",
      " Coeficiente de determinacion R2 :  0.5182128482110882\n"
     ]
    }
   ],
   "source": [
    "x=np.array(data.iloc[:,1:-1])\n",
    "y=np.array(data.iloc[:,:-1])\n",
    "x = x.reshape(-1,1)\n",
    "regression_model = LinearRegression()\n",
    "regression_model.fit(x, y)\n",
    "y_predicted = regression_model.predict(x)\n",
    "mse=mean_squared_error(y,y_predicted)\n",
    "rmse = np.sqrt(mean_squared_error(y, y_predicted))\n",
    "r2 = r2_score(y, y_predicted)\n",
    "print('Pendiente :' ,regression_model.coef_)\n",
    "print('Intercepción:', regression_model.intercept_)\n",
    "print('Errorcuadratico medio :',mse)\n",
    "print('Raiz del error cuadratico medio: ', rmse)\n",
    "print(' Coeficiente de determinacion R2 : ', r2)"
   ]
  },
  {
   "cell_type": "code",
   "execution_count": 16,
   "metadata": {},
   "outputs": [
    {
     "name": "stdout",
     "output_type": "stream",
     "text": [
      "0.37014633042893613\n",
      "2.0661794255427655\n",
      "           A         B        C\n",
      "0   5.715810  45.48131  0.00300\n",
      "1   2.637592  44.56355  0.01184\n",
      "2   0.531011  44.48522  0.01201\n",
      "3   0.183625  44.94271  0.00330\n",
      "4   7.928892  44.85158  0.01119\n",
      "..       ...       ...      ...\n",
      "74  3.426947  44.59963  0.00717\n",
      "75  0.739036  44.73006  0.02122\n",
      "76  0.113311  44.47789  0.01137\n",
      "77  0.562392  45.01247  0.01123\n",
      "78  0.297777  44.55196  0.01556\n",
      "\n",
      "[77 rows x 3 columns]\n"
     ]
    }
   ],
   "source": [
    "data=pd.read_csv('AR_2_G.csv',header=0,)\n",
    "data = data.dropna(how='any')#quita los valores nan del documento\n",
    "y=data.iloc[:,0]\n",
    "\n",
    "x=data.iloc[:,1]\n",
    "z=data.iloc[:,2]\n",
    "print(stats.stdev(x))\n",
    "print(stats.stdev(y))\n",
    "print(data)"
   ]
  },
  {
   "cell_type": "code",
   "execution_count": 17,
   "metadata": {},
   "outputs": [
    {
     "name": "stdout",
     "output_type": "stream",
     "text": [
      "pendiente b1  0.09424327946050645\n",
      "intercepción b0 is -2.3144334763417844\n"
     ]
    },
    {
     "data": {
      "image/png": "[encoded data removed]",
      "text/plain": [
       "<Figure size 432x288 with 1 Axes>"
      ]
     },
     "metadata": {
      "needs_background": "light"
     },
     "output_type": "display_data"
    }
   ],
   "source": [
    "n = np.size(x)\n",
    "x_mean = np.mean(x)\n",
    "y_mean = np.mean(y)\n",
    "x_mean,y_mean\n",
    "  \n",
    "Sxy = np.sum(x*y)- n*x_mean*y_mean\n",
    "Sxx = np.sum(x*x)-n*x_mean*x_mean\n",
    "  \n",
    "b1 = Sxy/Sxx\n",
    "b0 = y_mean-b1*x_mean\n",
    "print('pendiente b1 ', b1)\n",
    "print('intercepción b0 is', b0)\n",
    "  \n",
    "plt.scatter(x,y)\n",
    "xerror = z\n",
    "plt.errorbar(x,y,xerr=xerror, fmt = ' ' , ecolor='blue')\n",
    "plt.title(\"Luminosidad_3000\")\n",
    "\n",
    "y_pred = b1 * x + b0\n",
    "  \n",
    "plt.scatter(x, y, color = 'red')\n",
    "plt.plot(x, y_pred, color = 'green')\n",
    "plt.xlabel('erg/seg')\n",
    "plt.ylabel('AR_G_2')\n",
    "plt.savefig(\"Luminosidad_3000_AR_G_2.pdf\")"
   ]
  },
  {
   "cell_type": "code",
   "execution_count": 18,
   "metadata": {},
   "outputs": [
    {
     "name": "stdout",
     "output_type": "stream",
     "text": [
      "Pendiente : [[0.09424328]\n",
      " [1.        ]]\n",
      "Intercepción: [-2.31443348e+00 -2.13162821e-14]\n",
      "Errorcuadratico medio : 2.1062267593833854\n",
      "Raiz del error cuadratico medio:  1.4512845204794909\n",
      " Coeficiente de determinacion R2 :  0.5001425219040923\n"
     ]
    }
   ],
   "source": [
    "x=np.array(data.iloc[:,1:-1])\n",
    "y=np.array(data.iloc[:,:-1])\n",
    "x = x.reshape(-1,1)\n",
    "regression_model = LinearRegression()\n",
    "regression_model.fit(x, y)\n",
    "y_predicted = regression_model.predict(x)\n",
    "mse=mean_squared_error(y,y_predicted)\n",
    "rmse = np.sqrt(mean_squared_error(y, y_predicted))\n",
    "r2 = r2_score(y, y_predicted)\n",
    "print('Pendiente :' ,regression_model.coef_)\n",
    "print('Intercepción:', regression_model.intercept_)\n",
    "print('Errorcuadratico medio :',mse)\n",
    "print('Raiz del error cuadratico medio: ', rmse)\n",
    "print(' Coeficiente de determinacion R2 : ', r2)"
   ]
  },
  {
   "cell_type": "code",
   "execution_count": 19,
   "metadata": {},
   "outputs": [
    {
     "name": "stdout",
     "output_type": "stream",
     "text": [
      "0.36089656603926096\n",
      "1.1047409809814466\n",
      "           A         B        C\n",
      "0   0.783238  45.48131  0.00300\n",
      "1   1.910053  44.56355  0.01184\n",
      "2   0.043060  44.48522  0.01201\n",
      "3   0.082514  44.94271  0.00330\n",
      "4   0.418695  44.85158  0.01119\n",
      "..       ...       ...      ...\n",
      "79  4.409960  44.98618  0.00803\n",
      "80  0.707021  45.06799  0.01807\n",
      "81  0.214624  44.86777  0.01203\n",
      "82  2.052198  44.71317  0.02774\n",
      "83  1.337782  44.93590  0.01085\n",
      "\n",
      "[83 rows x 3 columns]\n"
     ]
    }
   ],
   "source": [
    "data=pd.read_csv('AR_2_R.csv',header=0,)\n",
    "data = data.dropna(how='any')#quita los valores nan del documento\n",
    "y=data.iloc[:,0]\n",
    "\n",
    "x=data.iloc[:,1]\n",
    "z=data.iloc[:,2]\n",
    "\n",
    "print(stats.stdev(x))\n",
    "print(stats.stdev(y))\n",
    "print(data)"
   ]
  },
  {
   "cell_type": "code",
   "execution_count": 20,
   "metadata": {
    "scrolled": true
   },
   "outputs": [
    {
     "name": "stdout",
     "output_type": "stream",
     "text": [
      "pendiente b1  -0.5842270307813179\n",
      "intercepción b0 is 27.26135133669582\n"
     ]
    },
    {
     "data": {
      "image/png": "[encoded data removed]",
      "text/plain": [
       "<Figure size 432x288 with 1 Axes>"
      ]
     },
     "metadata": {
      "needs_background": "light"
     },
     "output_type": "display_data"
    }
   ],
   "source": [
    "n = np.size(x)\n",
    "x_mean = np.mean(x)\n",
    "y_mean = np.mean(y)\n",
    "x_mean,y_mean\n",
    "  \n",
    "Sxy = np.sum(x*y)- n*x_mean*y_mean\n",
    "Sxx = np.sum(x*x)-n*x_mean*x_mean\n",
    "  \n",
    "b1 = Sxy/Sxx\n",
    "b0 = y_mean-b1*x_mean\n",
    "print('pendiente b1 ', b1)\n",
    "print('intercepción b0 is', b0)\n",
    "  \n",
    "plt.scatter(x,y)\n",
    "xerror = z\n",
    "plt.errorbar(x,y,xerr=xerror, fmt = ' ' , ecolor='blue')\n",
    "plt.title(\"Luminosidad_3000\")\n",
    "\n",
    "y_pred = b1 * x + b0\n",
    "  \n",
    "plt.scatter(x, y, color = 'red')\n",
    "plt.plot(x, y_pred, color = 'green')\n",
    "plt.xlabel('erg/seg')\n",
    "plt.ylabel('AR_R_2')\n",
    "plt.savefig(\"Luminosidad_3000_AR_R_2.pdf\")"
   ]
  },
  {
   "cell_type": "code",
   "execution_count": 22,
   "metadata": {},
   "outputs": [
    {
     "name": "stdout",
     "output_type": "stream",
     "text": [
      "Pendiente : [[-0.77451213]\n",
      " [ 1.        ]]\n",
      "Intercepción: [ 3.61177702e+01 -7.10542736e-15]\n",
      "Errorcuadratico medio : 1.552527389962165\n",
      "Raiz del error cuadratico medio:  1.2460045706024376\n",
      " Coeficiente de determinacion R2 :  0.512249775395436\n"
     ]
    }
   ],
   "source": [
    "x=np.array(data.iloc[:,1:-1])\n",
    "y=np.array(data.iloc[:,:-1])\n",
    "x = x.reshape(-1,1)\n",
    "regression_model = LinearRegression()\n",
    "regression_model.fit(x, y)\n",
    "y_predicted = regression_model.predict(x)\n",
    "mse=mean_squared_error(y,y_predicted)\n",
    "rmse = np.sqrt(mean_squared_error(y, y_predicted))\n",
    "r2 = r2_score(y, y_predicted)\n",
    "print('Pendiente :' ,regression_model.coef_)\n",
    "print('Intercepción:', regression_model.intercept_)\n",
    "print('Errorcuadratico medio :',mse)\n",
    "print('Raiz del error cuadratico medio: ', rmse)\n",
    "print(' Coeficiente de determinacion R2 : ', r2)"
   ]
  },
  {
   "cell_type": "code",
   "execution_count": 28,
   "metadata": {},
   "outputs": [
    {
     "name": "stdout",
     "output_type": "stream",
     "text": [
      "0.36277399721366677\n",
      "1.7950862202796174\n",
      "           A         B        C\n",
      "0   2.624631  45.48131  0.00300\n",
      "1   2.510650  44.56355  0.01184\n",
      "2   0.114183  44.48522  0.01201\n",
      "3   0.129539  44.94271  0.00330\n",
      "4   0.115155  44.85158  0.01119\n",
      "..       ...       ...      ...\n",
      "79  0.450390  44.98618  0.00803\n",
      "80  0.772785  45.06799  0.01807\n",
      "81  1.250476  44.86777  0.01203\n",
      "82  2.436343  44.71317  0.02774\n",
      "83  1.824101  44.93590  0.01085\n",
      "\n",
      "[82 rows x 3 columns]\n"
     ]
    }
   ],
   "source": [
    "data=pd.read_csv('AR_I_.csv',header=0,)\n",
    "data = data.dropna(how='any')#quita los valores nan del documento\n",
    "y=data.iloc[:,0]\n",
    "\n",
    "x=data.iloc[:,1]\n",
    "\n",
    "z=data.iloc[:,2]\n",
    "print(stats.stdev(x))\n",
    "print(stats.stdev(y))\n",
    "print(data)"
   ]
  },
  {
   "cell_type": "code",
   "execution_count": 29,
   "metadata": {},
   "outputs": [
    {
     "name": "stdout",
     "output_type": "stream",
     "text": [
      "pendiente b1  -0.7745121295242912\n",
      "intercepción b0 is 36.11777022359003\n"
     ]
    },
    {
     "data": {
      "image/png": "[encoded data removed]",
      "text/plain": [
       "<Figure size 432x288 with 1 Axes>"
      ]
     },
     "metadata": {
      "needs_background": "light"
     },
     "output_type": "display_data"
    }
   ],
   "source": [
    "n = np.size(x)\n",
    "x_mean = np.mean(x)\n",
    "y_mean = np.mean(y)\n",
    "x_mean,y_mean\n",
    "  \n",
    "Sxy = np.sum(x*y)- n*x_mean*y_mean\n",
    "Sxx = np.sum(x*x)-n*x_mean*x_mean\n",
    "  \n",
    "b1 = Sxy/Sxx\n",
    "b0 = y_mean-b1*x_mean\n",
    "print('pendiente b1 ', b1)\n",
    "print('intercepción b0 is', b0)\n",
    "  \n",
    "plt.scatter(x,y)\n",
    "xerror = z\n",
    "plt.errorbar(x,y,xerr=xerror, fmt = ' ' , ecolor='blue')\n",
    "plt.title(\"Luminosidad_3000\")\n",
    "\n",
    "y_pred = b1 * x + b0\n",
    "  \n",
    "plt.scatter(x, y, color = 'red')\n",
    "plt.plot(x, y_pred, color = 'green')\n",
    "plt.xlabel('erg/seg')\n",
    "plt.ylabel('AR_I_2')\n",
    "plt.savefig(\"Luminosidad_3000_AR_I_2.pdf\")\n"
   ]
  },
  {
   "cell_type": "code",
   "execution_count": 30,
   "metadata": {},
   "outputs": [
    {
     "name": "stdout",
     "output_type": "stream",
     "text": [
      "Pendiente : [[-0.77451213]\n",
      " [ 1.        ]]\n",
      "Intercepción: [ 3.61177702e+01 -7.10542736e-15]\n",
      "Errorcuadratico medio : 1.552527389962165\n",
      "Raiz del error cuadratico medio:  1.2460045706024376\n",
      " Coeficiente de determinacion R2 :  0.512249775395436\n"
     ]
    }
   ],
   "source": [
    "x=np.array(data.iloc[:,1:-1])\n",
    "y=np.array(data.iloc[:,:-1])\n",
    "x = x.reshape(-1,1)\n",
    "regression_model = LinearRegression()\n",
    "regression_model.fit(x, y)\n",
    "y_predicted = regression_model.predict(x)\n",
    "mse=mean_squared_error(y,y_predicted)\n",
    "rmse = np.sqrt(mean_squared_error(y, y_predicted))\n",
    "r2 = r2_score(y, y_predicted)\n",
    "print('Pendiente :' ,regression_model.coef_)\n",
    "print('Intercepción:', regression_model.intercept_)\n",
    "print('Errorcuadratico medio :',mse)\n",
    "print('Raiz del error cuadratico medio: ', rmse)\n",
    "print(' Coeficiente de determinacion R2 : ', r2)"
   ]
  },
  {
   "cell_type": "code",
   "execution_count": 31,
   "metadata": {},
   "outputs": [
    {
     "name": "stdout",
     "output_type": "stream",
     "text": [
      "0.3710730421586048\n",
      "1.790487074666796\n",
      "           A         B        C\n",
      "0   0.589306  45.48131  0.00300\n",
      "1   0.281835  44.56355  0.01184\n",
      "2   0.156123  44.48522  0.01201\n",
      "3   0.391727  44.94271  0.00330\n",
      "4   1.529968  44.85158  0.01119\n",
      "..       ...       ...      ...\n",
      "86  0.094828  45.73744  0.00214\n",
      "88  1.784145  44.39641  0.01567\n",
      "89  0.151232  44.43794  0.01206\n",
      "90  0.099177  44.40271  0.01366\n",
      "91  0.163498  44.66232  0.01430\n",
      "\n",
      "[90 rows x 3 columns]\n"
     ]
    }
   ],
   "source": [
    "data=pd.read_csv('AR_2_Z.csv',header=0,)\n",
    "data = data.dropna(how='any')#quita los valores nan del documento\n",
    "y=data.iloc[:,0]\n",
    "\n",
    "x=data.iloc[:,1]\n",
    "z=data.iloc[:,2]\n",
    "\n",
    "print(stats.stdev(x))\n",
    "print(stats.stdev(y))\n",
    "print(data)"
   ]
  },
  {
   "cell_type": "code",
   "execution_count": 32,
   "metadata": {},
   "outputs": [
    {
     "name": "stdout",
     "output_type": "stream",
     "text": [
      "pendiente b1  -0.9285422927160247\n",
      "intercepción b0 is 42.356046903963794\n"
     ]
    },
    {
     "data": {
      "image/png": "[encoded data removed]",
      "text/plain": [
       "<Figure size 432x288 with 1 Axes>"
      ]
     },
     "metadata": {
      "needs_background": "light"
     },
     "output_type": "display_data"
    }
   ],
   "source": [
    "n = np.size(x)\n",
    "x_mean = np.mean(x)\n",
    "y_mean = np.mean(y)\n",
    "x_mean,y_mean\n",
    "  \n",
    "Sxy = np.sum(x*y)- n*x_mean*y_mean\n",
    "Sxx = np.sum(x*x)-n*x_mean*x_mean\n",
    "  \n",
    "b1 = Sxy/Sxx\n",
    "b0 = y_mean-b1*x_mean\n",
    "print('pendiente b1 ', b1)\n",
    "print('intercepción b0 is', b0)\n",
    "  \n",
    "plt.scatter(x,y)\n",
    "xerror = z\n",
    "plt.errorbar(x,y,xerr=xerror, fmt = ' ' , ecolor='blue')\n",
    "plt.title(\"Luminosidad_3000\")\n",
    "\n",
    "y_pred = b1 * x + b0\n",
    "  \n",
    "plt.scatter(x, y, color = 'red')\n",
    "plt.plot(x, y_pred, color = 'green')\n",
    "plt.xlabel('erg/seg')\n",
    "plt.ylabel('AR_Z_2')\n",
    "plt.savefig(\"Luminosidad_3000_AR_Z_2.pdf\")"
   ]
  },
  {
   "cell_type": "code",
   "execution_count": 33,
   "metadata": {},
   "outputs": [
    {
     "name": "stdout",
     "output_type": "stream",
     "text": [
      "Pendiente : [[-0.92854229]\n",
      " [ 1.        ]]\n",
      "Intercepción: [4.23560469e+01 1.42108547e-14]\n",
      "Errorcuadratico medio : 1.5264115232833404\n",
      "Raiz del error cuadratico medio:  1.2354802804105538\n",
      " Coeficiente de determinacion R2 :  0.5185161125665069\n"
     ]
    }
   ],
   "source": [
    "x=np.array(data.iloc[:,1:-1])\n",
    "y=np.array(data.iloc[:,:-1])\n",
    "x = x.reshape(-1,1)\n",
    "regression_model = LinearRegression()\n",
    "regression_model.fit(x, y)\n",
    "y_predicted = regression_model.predict(x)\n",
    "mse=mean_squared_error(y,y_predicted)\n",
    "rmse = np.sqrt(mean_squared_error(y, y_predicted))\n",
    "r2 = r2_score(y, y_predicted)\n",
    "print('Pendiente :' ,regression_model.coef_)\n",
    "print('Intercepción:', regression_model.intercept_)\n",
    "print('Errorcuadratico medio :',mse)\n",
    "print('Raiz del error cuadratico medio: ', rmse)\n",
    "print(' Coeficiente de determinacion R2 : ', r2)"
   ]
  }
 ],
 "metadata": {
  "kernelspec": {
   "display_name": "Python 3",
   "language": "python",
   "name": "python3"
  },
  "language_info": {
   "codemirror_mode": {
    "name": "ipython",
    "version": 3
   },
   "file_extension": ".py",
   "mimetype": "text/x-python",
   "name": "python",
   "nbconvert_exporter": "python",
   "pygments_lexer": "ipython3",
   "version": "3.6.9"
  }
 },
 "nbformat": 4,
 "nbformat_minor": 4
}
